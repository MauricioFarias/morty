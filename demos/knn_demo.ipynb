{
 "cells": [
  {
   "cell_type": "code",
   "execution_count": 1,
   "metadata": {
    "collapsed": false
   },
   "outputs": [],
   "source": [
    "from morty.extras.foldgenerator import FoldGenerator\n",
    "from morty.classifiers.knnclassifier import KNNClassifier\n",
    "from morty.evaluator import Evaluator\n",
    "import numpy as np\n",
    "import json\n",
    "import os\n"
   ]
  },
  {
   "cell_type": "code",
   "execution_count": 2,
   "metadata": {
    "collapsed": true
   },
   "outputs": [],
   "source": [
    "# data\n",
    "data_folder = 'data'\n",
    "annotation_file = os.path.join(data_folder, 'annotations.json')\n",
    "annotations = json.load(open(annotation_file, 'r'))\n"
   ]
  },
  {
   "cell_type": "code",
   "execution_count": 3,
   "metadata": {
    "collapsed": true
   },
   "outputs": [],
   "source": [
    "# divide the data into stratified 5-fold\n",
    "random_state = 1  # for reproducability\n",
    "folds = FoldGenerator.stratified_k_fold(data_folder, annotations, n_folds=5, \n",
    "                                        random_state=random_state)\n"
   ]
  },
  {
   "cell_type": "code",
   "execution_count": 4,
   "metadata": {
    "collapsed": true
   },
   "outputs": [],
   "source": [
    "# instantiate the Bozkurt classifier object\n",
    "step_size = 7.5\n",
    "smooth_factor = 15\n",
    "model_type = 'multi'\n",
    "distribution_type = \"pcd\"\n",
    "distance_method = \"bhat\"\n",
    "rank = 2\n",
    "k_param = 3\n",
    "classifier = KNNClassifier(step_size=step_size, smooth_factor=smooth_factor, \n",
    "                           feature_type=distribution_type)\n",
    "ev = Evaluator()"
   ]
  },
  {
   "cell_type": "code",
   "execution_count": 5,
   "metadata": {
    "collapsed": false,
    "scrolled": true
   },
   "outputs": [
    {
     "ename": "SyntaxError",
     "evalue": "invalid syntax (<ipython-input-5-b155fc9c0d25>, line 9)",
     "output_type": "error",
     "traceback": [
      "\u001b[1;36m  File \u001b[1;32m\"<ipython-input-5-b155fc9c0d25>\"\u001b[1;36m, line \u001b[1;32m9\u001b[0m\n\u001b[1;33m    classifier.train(**fold['training'], model_type=model_type)\u001b[0m\n\u001b[1;37m                                       ^\u001b[0m\n\u001b[1;31mSyntaxError\u001b[0m\u001b[1;31m:\u001b[0m invalid syntax\n"
     ]
    }
   ],
   "source": [
    "# train, test and evaluate the method for each fold\n",
    "tonic_res = []\n",
    "mode_res = []\n",
    "joint_res = []\n",
    "for fold in folds:\n",
    "    train_temp = fold['training'].copy()\n",
    "    import pdb\n",
    "    pdb.set_trace()\n",
    "    classifier.train(**fold['training'], model_type=model_type)\n",
    "    \n",
    "    # testing\n",
    "    testing_data = fold['testing']\n",
    "    for t in testing_data:\n",
    "        # tonic identification\n",
    "        tonic = classifier.estimate_tonic(\n",
    "            t['pitch'], t['mode'], distance_method=distance_method, rank=rank)\n",
    "        \n",
    "        # mode recognition\n",
    "        mode = classifier.estimate_mode(\n",
    "            t['pitch'], t['tonic'], distance_method=distance_method, rank=rank)\n",
    "\n",
    "        # joint estimation\n",
    "        joint = classifier.estimate_joint(\n",
    "            t['pitch'], distance_method=distance_method, rank=rank)\n",
    "        \n",
    "        # evaluate\n",
    "        tonic_res.append(ev.evaluate_tonic(tonic[0][0], t['tonic'], t['source']))\n",
    "        mode_res.append(ev.evaluate_mode(mode[0][0], t['mode'], t['source']))\n",
    "        joint_res.append(ev.evaluate_joint([joint[0][0][0], t[\"tonic\"]], \n",
    "                                           [joint[0][0][1], t[\"mode\"]], t['source']))\n",
    "        \n",
    "        # display results\n",
    "        print(u\"mbid: {0:s}\".format(t[\"source\"]))\n",
    "        print(u\"Tonic Iden: Est: {0:.1f}Hz\\t Anno: {1:.1f}Hz\\tEval: {2:s}\"\n",
    "              .format(tonic[0][0], t[\"tonic\"], str(tonic_res[-1]['tonic_eval'])))\n",
    "        print(u\"Mode Recog: Est: {0:8.8s}\\t Anno: {1:8.8s}\\tEval: {2:s}\"\n",
    "              .format(mode[0][0], t[\"mode\"], str(mode_res[-1]['mode_eval'])))\n",
    "        print(u\"Joint Estim:\\n\"\n",
    "              u\"\\tTonic Iden: Est: {0:.1f}Hz\\t Anno: {1:.1f}Hz\\tEval: {2!r}\\n\"\n",
    "              u\"\\tMode Recog: Est: {3:8.8s}\\t Anno: {4:8.8s}\\tEval: {5!r}\\n\"\n",
    "              .\n",
    "              format(joint[0][0][0], t['tonic'], joint_res[-1]['tonic_eval'],\n",
    "                     joint[0][0][1], t['mode'], joint_res[-1]['mode_eval']))\n",
    "        print(\"----------------------------------------------------------------------\")\n",
    "        "
   ]
  },
  {
   "cell_type": "code",
   "execution_count": null,
   "metadata": {
    "collapsed": false
   },
   "outputs": [],
   "source": [
    "# get overall results \n",
    "tonic_accuracy = np.mean([b['tonic_eval'] for b in tonic_res])\n",
    "mode_accuracy = np.mean([b['mode_eval'] for b in mode_res])\n",
    "joint_accuracy = np.mean([b['joint_eval'] for b in joint_res])\n",
    "\n",
    "# display\n",
    "print(\"Tonic Accuracy: %.2f\" %tonic_accuracy)\n",
    "print(\"Mode Accuracy : %.2f\" %mode_accuracy)\n",
    "print(\"Joint Accuracy: %.2f\" %joint_accuracy)\n"
   ]
  }
 ],
 "metadata": {
  "kernelspec": {
   "display_name": "Python 2",
   "language": "python",
   "name": "python2"
  },
  "language_info": {
   "codemirror_mode": {
    "name": "ipython",
    "version": 2
   },
   "file_extension": ".py",
   "mimetype": "text/x-python",
   "name": "python",
   "nbconvert_exporter": "python",
   "pygments_lexer": "ipython2",
   "version": "2.7.6"
  }
 },
 "nbformat": 4,
 "nbformat_minor": 0
}
