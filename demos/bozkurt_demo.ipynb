{
 "cells": [
  {
   "cell_type": "code",
   "execution_count": 1,
   "metadata": {
    "collapsed": false
   },
   "outputs": [],
   "source": [
    "from morty.extras.foldgenerator import FoldGenerator\n",
    "from morty.pitchdistribution import PitchDistribution as pd\n",
    "from morty.bozkurt import Bozkurt\n",
    "from morty.evaluator import Evaluator\n",
    "import json\n",
    "import os\n"
   ]
  },
  {
   "cell_type": "code",
   "execution_count": 2,
   "metadata": {
    "collapsed": false
   },
   "outputs": [],
   "source": [
    "# data\n",
    "data_folder = 'data'\n",
    "annotation_file = os.path.join(data_folder, 'annotations.json')\n",
    "annotations = json.load(open(annotation_file, 'r'))\n"
   ]
  },
  {
   "cell_type": "code",
   "execution_count": 3,
   "metadata": {
    "collapsed": false
   },
   "outputs": [],
   "source": [
    "# divide the data into stratified 5-fold\n",
    "random_state = 1  # for reproducability\n",
    "folds = FoldGenerator.stratified_k_fold(data_folder, annotations, n_folds=5, \n",
    "                                        random_state=random_state)\n"
   ]
  },
  {
   "cell_type": "code",
   "execution_count": 4,
   "metadata": {
    "collapsed": false
   },
   "outputs": [],
   "source": [
    "# instantiate the Bozkurt classifier object\n",
    "step_size = 7.5\n",
    "smooth_factor = 15\n",
    "distribution_type = \"pcd\"\n",
    "distance_method = \"bhat\"\n",
    "rank = 1\n",
    "bozkurt = Bozkurt(step_size=step_size, smooth_factor=smooth_factor, \n",
    "                  feature_type=distribution_type)\n"
   ]
  },
  {
   "cell_type": "code",
   "execution_count": 5,
   "metadata": {
    "collapsed": false
   },
   "outputs": [
    {
     "ename": "NameError",
     "evalue": "global name 'dummy_freq' is not defined",
     "output_type": "error",
     "traceback": [
      "\u001b[1;31m---------------------------------------------------------------------------\u001b[0m",
      "\u001b[1;31mNameError\u001b[0m                                 Traceback (most recent call last)",
      "\u001b[1;32m<ipython-input-5-d46e76774b79>\u001b[0m in \u001b[0;36m<module>\u001b[1;34m()\u001b[0m\n\u001b[0;32m     10\u001b[0m \u001b[1;33m\u001b[0m\u001b[0m\n\u001b[0;32m     11\u001b[0m         \u001b[1;31m# mode recognition\u001b[0m\u001b[1;33m\u001b[0m\u001b[1;33m\u001b[0m\u001b[0m\n\u001b[1;32m---> 12\u001b[1;33m         \u001b[0mmode\u001b[0m \u001b[1;33m=\u001b[0m \u001b[0mbozkurt\u001b[0m\u001b[1;33m.\u001b[0m\u001b[0mestimate_mode\u001b[0m\u001b[1;33m(\u001b[0m\u001b[0mt\u001b[0m\u001b[1;33m[\u001b[0m\u001b[1;34m'pitch'\u001b[0m\u001b[1;33m]\u001b[0m\u001b[1;33m,\u001b[0m \u001b[0mt\u001b[0m\u001b[1;33m[\u001b[0m\u001b[1;34m'tonic'\u001b[0m\u001b[1;33m]\u001b[0m\u001b[1;33m)\u001b[0m\u001b[1;33m\u001b[0m\u001b[0m\n\u001b[0m\u001b[0;32m     13\u001b[0m \u001b[1;33m\u001b[0m\u001b[0m\n\u001b[0;32m     14\u001b[0m         \u001b[1;31m# joint estimation\u001b[0m\u001b[1;33m\u001b[0m\u001b[1;33m\u001b[0m\u001b[0m\n",
      "\u001b[1;32m/home/sertansenturk/Documents/notaIcra/code/morty/morty/bozkurt.py\u001b[0m in \u001b[0;36mestimate_mode\u001b[1;34m(self, *args, **kwargs)\u001b[0m\n\u001b[0;32m    101\u001b[0m         \u001b[1;33m:\u001b[0m\u001b[1;32mreturn\u001b[0m\u001b[1;33m:\u001b[0m \u001b[0mranked\u001b[0m \u001b[0mmode\u001b[0m \u001b[0mestimations\u001b[0m\u001b[1;33m\u001b[0m\u001b[0m\n\u001b[0;32m    102\u001b[0m         --------------------------------------------------------------------\"\"\"\n\u001b[1;32m--> 103\u001b[1;33m         \u001b[0mtest_feature\u001b[0m \u001b[1;33m=\u001b[0m \u001b[0mself\u001b[0m\u001b[1;33m.\u001b[0m\u001b[0m_parse_mode_estimate_input\u001b[0m\u001b[1;33m(\u001b[0m\u001b[1;33m*\u001b[0m\u001b[0margs\u001b[0m\u001b[1;33m)\u001b[0m\u001b[1;33m\u001b[0m\u001b[0m\n\u001b[0m\u001b[0;32m    104\u001b[0m         \u001b[0mself\u001b[0m\u001b[1;33m.\u001b[0m\u001b[0m_chk_estimate_kwargs\u001b[0m\u001b[1;33m(\u001b[0m\u001b[1;33m**\u001b[0m\u001b[0mkwargs\u001b[0m\u001b[1;33m)\u001b[0m\u001b[1;33m\u001b[0m\u001b[0m\n\u001b[0;32m    105\u001b[0m \u001b[1;33m\u001b[0m\u001b[0m\n",
      "\u001b[1;32m/home/sertansenturk/Documents/notaIcra/code/morty/morty/abstractclassifier.py\u001b[0m in \u001b[0;36m_parse_mode_estimate_input\u001b[1;34m(self, *args)\u001b[0m\n\u001b[0;32m     64\u001b[0m                 \u001b[1;31m# the input length assertion in the first line of the method\u001b[0m\u001b[1;33m\u001b[0m\u001b[1;33m\u001b[0m\u001b[0m\n\u001b[0;32m     65\u001b[0m                 \u001b[0mpitch_cent\u001b[0m \u001b[1;33m=\u001b[0m \u001b[0mself\u001b[0m\u001b[1;33m.\u001b[0m\u001b[0m_parse_pitch_input\u001b[0m\u001b[1;33m(\u001b[0m\u001b[1;33m*\u001b[0m\u001b[0margs\u001b[0m\u001b[1;33m)\u001b[0m\u001b[1;33m\u001b[0m\u001b[0m\n\u001b[1;32m---> 66\u001b[1;33m             \u001b[0mfeature\u001b[0m \u001b[1;33m=\u001b[0m \u001b[0mself\u001b[0m\u001b[1;33m.\u001b[0m\u001b[0m_cent_pitch_to_feature\u001b[0m\u001b[1;33m(\u001b[0m\u001b[0mpitch_cent\u001b[0m\u001b[1;33m,\u001b[0m \u001b[0mdummy_freq\u001b[0m\u001b[1;33m)\u001b[0m\u001b[1;33m\u001b[0m\u001b[0m\n\u001b[0m\u001b[0;32m     67\u001b[0m \u001b[1;33m\u001b[0m\u001b[0m\n\u001b[0;32m     68\u001b[0m         \u001b[1;32mreturn\u001b[0m \u001b[0mfeature\u001b[0m\u001b[1;33m\u001b[0m\u001b[0m\n",
      "\u001b[1;31mNameError\u001b[0m: global name 'dummy_freq' is not defined"
     ]
    }
   ],
   "source": [
    "# train, test and evaluate the method for each fold\n",
    "for fold in folds:\n",
    "    bozkurt.train(**fold['training'])\n",
    "    \n",
    "    # testing\n",
    "    testing_data = fold['testing']\n",
    "    for t in testing_data:\n",
    "        # tonic identification\n",
    "        tonic = bozkurt.estimate_tonic(t['pitch'], t['mode'])\n",
    "        \n",
    "        # mode recognition\n",
    "        mode = bozkurt.estimate_mode(t['pitch'], t['tonic'])\n",
    "\n",
    "        # joint estimation\n",
    "        joint = bozkurt.estimate_joint(t['pitch'])\n",
    "        \n",
    "        print (mode, t['mode'])\n",
    "        print (tonic, t['tonic'])\n",
    "        print ''\n",
    "#         print joint\n",
    "#         print (t['tonic'], t['mode'])\n",
    "        "
   ]
  },
  {
   "cell_type": "code",
   "execution_count": null,
   "metadata": {
    "collapsed": false
   },
   "outputs": [],
   "source": []
  },
  {
   "cell_type": "code",
   "execution_count": null,
   "metadata": {
    "collapsed": false
   },
   "outputs": [],
   "source": [
    "# Initializations\n",
    "ev = Evaluator()\n",
    "pitch_path = \"data\"\n",
    "mode_list = [\"Hicaz\", \"Huseyni\", \"Saba\"]\n",
    "train_dir = os.path.join(\"train_dir\")\n",
    "\n",
    "# Metadata of 5-fold Cross Validation Folds\n",
    "annotations = json.load(open(os.path.join(pitch_path, 'annotations.json'), 'r'))\n",
    "tonic_annotations = {annot['mbid']:annot['tonic'] for annot in annotations}\n",
    "folds = [json.load(open(os.path.join(\"folds\", (\"fold_%d.json\"%i)), 'r')) \n",
    "         for i in range(1,6)]\n",
    "test_folds = [fold['test'] for fold in folds]\n",
    "train_folds = [fold['train'] for fold in folds]\n",
    "\n",
    "# Identifier String of this Parameter Set\n",
    "exp_str = (\"sf_%2.1f__ss_%2.1f__%s__dist_%s\" % \n",
    "           (smooth_factor, step_size, distribution_type, \n",
    "            distance_method)).replace('.', '')\n"
   ]
  },
  {
   "cell_type": "code",
   "execution_count": null,
   "metadata": {
    "collapsed": false,
    "scrolled": true
   },
   "outputs": [],
   "source": [
    "for fold_idx in range(5):\n",
    "    train_fold = train_folds[fold_idx]\n",
    "    test_fold = test_folds[fold_idx]\n",
    "    \n",
    "    # Training\n",
    "    for mode in mode_list:            \n",
    "        train_mbids = [track['mbid'] for track in train_fold \n",
    "                       if(track['makam'] == mode)]\n",
    "        train_tonics = [tonic_annotations[mbid] \n",
    "                        for mbid in train_mbids]\n",
    "        train_paths = [os.path.join(pitch_path, mode, (mbid+\".pitch\")) \n",
    "                       for mbid in train_mbids]\n",
    "        \n",
    "        bozkurt.train(mode, train_paths, train_tonics, \n",
    "                      save_dir=train_dir)\n",
    "        \n",
    "    # Testing    \n",
    "    for test_pitch in test_fold:\n",
    "        test_path = os.path.join(pitch_path, test_pitch[\"makam\"], \n",
    "                                 (test_pitch[\"mbid\"]+\".pitch\"))\n",
    "        \n",
    "        # Mode Recognition\n",
    "        mode_est = bozkurt.mode_estimate(\n",
    "            test_path, mode_names=mode_list, tonic_freq=test_pitch[\"tonic\"],\n",
    "            distance_method=distance_method, mode_dir=train_dir)[0]\n",
    "    \n",
    "        # Tonic Identification\n",
    "        tonic_est = bozkurt.tonic_estimate(\n",
    "            test_path, mode_name=mode, distance_method=distance_method, \n",
    "            mode_dir=train_dir)[0]\n",
    "        \n",
    "        # Joint Estimation\n",
    "        joint_mode_est, joint_tonic_est = bozkurt.joint_estimate(\n",
    "            test_path, mode_list, distance_method=distance_method, \n",
    "            mode_dir=train_dir)\n",
    "        joint_mode_est = joint_mode_est[0]\n",
    "        joint_tonic_est = joint_tonic_est[0]\n",
    "        \n",
    "        # Evaluations\n",
    "        mode_eval = (mode_est == test_pitch[\"makam\"])\n",
    "        tonic_eval = ev.tonic_evaluate(\n",
    "            test_pitch[\"mbid\"], tonic_est, test_pitch[\"tonic\"])[\"tonic_eval\"]\n",
    "        joint_eval = ((mode_est == test_pitch[\"makam\"]), \n",
    "                      ev.tonic_evaluate(test_pitch[\"mbid\"], joint_tonic_est, \n",
    "                                        test_pitch[\"tonic\"])[\"tonic_eval\"])\n",
    "        \n",
    "        print(\"mbid:%s\" % test_pitch[\"mbid\"])\n",
    "        print(\"\\nMode Recognition:\\tEstimated:%s\\t Actual:%s\\tEvaluation:%s\" % \n",
    "              (mode_est, test_pitch[\"makam\"], str(mode_eval)))\n",
    "        print(\"Tonic Identification:\\tEstimated:%4.2f\\t Actual:%4.2f\\tEvaluation:%s\" % \n",
    "              (tonic_est, test_pitch[\"tonic\"], str(tonic_eval)))\n",
    "        print((\"\\nJoint Estimation:\\nMode:\\tEstimated:%s\\t Actual:%s\\tEvaluation:%s\\n\"\n",
    "               \"Tonic:\\tEstimated:%4.2f\\t Actual:%4.2f\\tEvaluation:%s\\n\") % \n",
    "              (joint_mode_est, test_pitch[\"makam\"], str(joint_eval[0]),\n",
    "               joint_tonic_est, test_pitch[\"tonic\"], str(joint_eval[1])))\n",
    "        print(\"----------------------------------------------------------------------\")\n",
    "        "
   ]
  }
 ],
 "metadata": {
  "kernelspec": {
   "display_name": "Python 2",
   "language": "python",
   "name": "python2"
  },
  "language_info": {
   "codemirror_mode": {
    "name": "ipython",
    "version": 2
   },
   "file_extension": ".py",
   "mimetype": "text/x-python",
   "name": "python",
   "nbconvert_exporter": "python",
   "pygments_lexer": "ipython2",
   "version": "2.7.6"
  }
 },
 "nbformat": 4,
 "nbformat_minor": 0
}
