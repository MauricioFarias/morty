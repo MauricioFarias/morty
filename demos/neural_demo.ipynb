{
 "cells": [
  {
   "cell_type": "code",
   "execution_count": 1,
   "metadata": {
    "collapsed": false
   },
   "outputs": [],
   "source": [
    "from morty.classifiers.neuralclassifier import NeuralClassifier\n",
    "import sys\n",
    "import json\n",
    "import os\n",
    "import numpy as np\n"
   ]
  },
  {
   "cell_type": "code",
   "execution_count": 2,
   "metadata": {
    "collapsed": true
   },
   "outputs": [],
   "source": [
    "# Experiment Parameters\n",
    "step_size = 7.5 \n",
    "kernel_width = 15\n",
    "epochs = 10\n",
    "eta = 0.1\n"
   ]
  },
  {
   "cell_type": "code",
   "execution_count": 3,
   "metadata": {
    "collapsed": false
   },
   "outputs": [],
   "source": [
    "# Loading Metadata and Experiment Information\n",
    "base_dir = \"neural_data\"\n",
    "makam_list = ['Neva','Acemasiran','Rast','Hicaz','Karcigar','Muhayyer','Sultaniyegah','Bestenigar',\n",
    "              'Nihavent','Segah','Kurdilihicazkar','Huseyni','Acemkurdi','Huzzam','Ussak','Beyati',\n",
    "              'Hicazkar','Saba','Mahur','Suzinak']\n",
    "folds = [json.load(open(os.path.join(base_dir, 'folds', 'fold_' + str(i) + '.json'), 'r')) \n",
    "         for i in range(1,11)]\n",
    "test_folds = [fold['test'] for fold in folds]\n",
    "train_folds = [fold['train'] for fold in folds]\n"
   ]
  },
  {
   "cell_type": "code",
   "execution_count": 4,
   "metadata": {
    "collapsed": false
   },
   "outputs": [],
   "source": [
    "param_str = (\"sf_%2.1f__ss_%2.1f\" % (kernel_width, step_size)).replace('.', '')\n",
    "\n",
    "# To try PCA, replace \"raw_data\" below with pca40 or pca20\n",
    "pcd_path = os.path.join(base_dir, \"raw_data\", param_str + \".json\")\n",
    "pcd_list = json.load(open(pcd_path, \"r\"))\n",
    "pcd_dict = {i[\"mbid\"]: i[\"pcd\"] for i in pcd_list}\n"
   ]
  },
  {
   "cell_type": "code",
   "execution_count": 5,
   "metadata": {
    "collapsed": false
   },
   "outputs": [
    {
     "name": "stdout",
     "output_type": "stream",
     "text": [
      "Fold 1\n",
      "\tEpoch: 1, Accuracy: 0.05\n",
      "\tEpoch: 2, Accuracy: 0.05\n",
      "\tEpoch: 3, Accuracy: 0.03\n",
      "\tEpoch: 4, Accuracy: 0.05\n",
      "\tEpoch: 5, Accuracy: 0.05\n",
      "\tEpoch: 6, Accuracy: 0.05\n",
      "\tEpoch: 7, Accuracy: 0.05\n",
      "\tEpoch: 8, Accuracy: 0.05\n",
      "\tEpoch: 9, Accuracy: 0.05\n",
      "\tEpoch: 10, Accuracy: 0.05\n",
      "Fold 2\n",
      "\tEpoch: 1, Accuracy: 0.05\n",
      "\tEpoch: 2, Accuracy: 0.05\n",
      "\tEpoch: 3, Accuracy: 0.05\n",
      "\tEpoch: 4, Accuracy: 0.05\n",
      "\tEpoch: 5, Accuracy: 0.05\n",
      "\tEpoch: 6, Accuracy: 0.05\n",
      "\tEpoch: 7, Accuracy: 0.05\n",
      "\tEpoch: 8, Accuracy: 0.05\n",
      "\tEpoch: 9, Accuracy: 0.05\n",
      "\tEpoch: 10, Accuracy: 0.05\n",
      "Fold 3\n",
      "\tEpoch: 1, Accuracy: 0.05\n",
      "\tEpoch: 2, Accuracy: 0.05\n",
      "\tEpoch: 3, Accuracy: 0.05\n",
      "\tEpoch: 4, Accuracy: 0.05\n",
      "\tEpoch: 5, Accuracy: 0.05\n",
      "\tEpoch: 6, Accuracy: 0.01\n",
      "\tEpoch: 7, Accuracy: 0.05\n",
      "\tEpoch: 8, Accuracy: 0.03\n",
      "\tEpoch: 9, Accuracy: 0.05\n",
      "\tEpoch: 10, Accuracy: 0.05\n",
      "Fold 4\n",
      "\tEpoch: 1, Accuracy: 0.05\n",
      "\tEpoch: 2, Accuracy: 0.05\n",
      "\tEpoch: 3, Accuracy: 0.05\n",
      "\tEpoch: 4, Accuracy: 0.05\n",
      "\tEpoch: 5, Accuracy: 0.05\n",
      "\tEpoch: 6, Accuracy: 0.05\n",
      "\tEpoch: 7, Accuracy: 0.05\n",
      "\tEpoch: 8, Accuracy: 0.05\n",
      "\tEpoch: 9, Accuracy: 0.05\n",
      "\tEpoch: 10, Accuracy: 0.05\n",
      "Fold 5\n",
      "\tEpoch: 1, Accuracy: 0.05\n",
      "\tEpoch: 2, Accuracy: 0.05\n",
      "\tEpoch: 3, Accuracy: 0.05\n",
      "\tEpoch: 4, Accuracy: 0.05\n",
      "\tEpoch: 5, Accuracy: 0.05\n",
      "\tEpoch: 6, Accuracy: 0.05\n",
      "\tEpoch: 7, Accuracy: 0.05\n",
      "\tEpoch: 8, Accuracy: 0.05\n",
      "\tEpoch: 9, Accuracy: 0.05\n",
      "\tEpoch: 10, Accuracy: 0.05\n",
      "Fold 6\n",
      "\tEpoch: 1, Accuracy: 0.05\n",
      "\tEpoch: 2, Accuracy: 0.05\n",
      "\tEpoch: 3, Accuracy: 0.05\n",
      "\tEpoch: 4, Accuracy: 0.05\n",
      "\tEpoch: 5, Accuracy: 0.05\n",
      "\tEpoch: 6, Accuracy: 0.05\n",
      "\tEpoch: 7, Accuracy: 0.05\n",
      "\tEpoch: 8, Accuracy: 0.05\n",
      "\tEpoch: 9, Accuracy: 0.05\n",
      "\tEpoch: 10, Accuracy: 0.05\n",
      "Fold 7\n",
      "\tEpoch: 1, Accuracy: 0.05\n",
      "\tEpoch: 2, Accuracy: 0.05\n",
      "\tEpoch: 3, Accuracy: 0.05\n",
      "\tEpoch: 4, Accuracy: 0.05\n",
      "\tEpoch: 5, Accuracy: 0.05\n",
      "\tEpoch: 6, Accuracy: 0.05\n",
      "\tEpoch: 7, Accuracy: 0.05\n",
      "\tEpoch: 8, Accuracy: 0.05\n",
      "\tEpoch: 9, Accuracy: 0.05\n",
      "\tEpoch: 10, Accuracy: 0.05\n",
      "Fold 8\n",
      "\tEpoch: 1, Accuracy: 0.05\n",
      "\tEpoch: 2, Accuracy: 0.05\n",
      "\tEpoch: 3, Accuracy: 0.05\n",
      "\tEpoch: 4, Accuracy: 0.05\n",
      "\tEpoch: 5, Accuracy: 0.05\n",
      "\tEpoch: 6, Accuracy: 0.07\n",
      "\tEpoch: 7, Accuracy: 0.04\n",
      "\tEpoch: 8, Accuracy: 0.05\n",
      "\tEpoch: 9, Accuracy: 0.05\n",
      "\tEpoch: 10, Accuracy: 0.05\n",
      "Fold 9\n",
      "\tEpoch: 1, Accuracy: 0.05\n",
      "\tEpoch: 2, Accuracy: 0.06\n",
      "\tEpoch: 3, Accuracy: 0.04\n",
      "\tEpoch: 4, Accuracy: 0.05\n",
      "\tEpoch: 5, Accuracy: 0.05\n",
      "\tEpoch: 6, Accuracy: 0.05\n",
      "\tEpoch: 7, Accuracy: 0.07\n",
      "\tEpoch: 8, Accuracy: 0.05\n",
      "\tEpoch: 9, Accuracy: 0.05\n",
      "\tEpoch: 10, Accuracy: 0.04\n",
      "Fold 10\n",
      "\tEpoch: 1, Accuracy: 0.05\n",
      "\tEpoch: 2, Accuracy: 0.05\n",
      "\tEpoch: 3, Accuracy: 0.05\n",
      "\tEpoch: 4, Accuracy: 0.05\n",
      "\tEpoch: 5, Accuracy: 0.05\n",
      "\tEpoch: 6, Accuracy: 0.05\n",
      "\tEpoch: 7, Accuracy: 0.05\n",
      "\tEpoch: 8, Accuracy: 0.05\n",
      "\tEpoch: 9, Accuracy: 0.05\n",
      "\tEpoch: 10, Accuracy: 0.05\n"
     ]
    }
   ],
   "source": [
    "# We train the network from scratch for each fold to separate test and training data\n",
    "for fold_idx in range(10):\n",
    "    # If you are using PCA, replace step_size below with\n",
    "    # 60 for 20-dimensional and with 30 for 40_dimensional \n",
    "    nc = NeuralClassifier(step_size, kernel_width, makam_list)\n",
    "    print(\"Fold %d\" % (fold_idx+1))\n",
    "    train_fold = train_folds[fold_idx]\n",
    "    train_vals = np.array([np.array(pcd_dict[sample[\"mbid\"]]) for sample in train_fold])\n",
    "    train_labels = [sample[\"makam\"] for sample in train_fold]\n",
    "    \n",
    "    test_fold = test_folds[fold_idx]\n",
    "    test_vals = np.array([np.array(pcd_dict[sample[\"mbid\"]]) for sample in test_fold])\n",
    "    test_labels = [sample[\"makam\"] for sample in test_fold]\n",
    "    \n",
    "    for epoch in range(epochs):\n",
    "        epoch_evals = []\n",
    "        nc.train_from_pcds(train_labels, train_vals, learn_rate=eta)\n",
    "\n",
    "        for idx, test_sample in enumerate(test_vals):\n",
    "            mode_est = nc.mode_estimate(test_sample)\n",
    "            bool_eval = (mode_est == nc.mode_dict[test_labels[idx]])\n",
    "            epoch_evals.append(int(bool_eval))\n",
    "        \n",
    "        accuracy = sum(epoch_evals)/100.0\n",
    "        print(\"\\tEpoch: %d, Accuracy: %2.2f\" % ((epoch+1), accuracy))\n"
   ]
  }
 ],
 "metadata": {
  "kernelspec": {
   "display_name": "Python 2",
   "language": "python",
   "name": "python2"
  },
  "language_info": {
   "codemirror_mode": {
    "name": "ipython",
    "version": 2
   },
   "file_extension": ".py",
   "mimetype": "text/x-python",
   "name": "python",
   "nbconvert_exporter": "python",
   "pygments_lexer": "ipython2",
   "version": "2.7.6"
  }
 },
 "nbformat": 4,
 "nbformat_minor": 0
}
