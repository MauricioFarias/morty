{
 "cells": [
  {
   "cell_type": "code",
   "execution_count": null,
   "metadata": {
    "collapsed": false
   },
   "outputs": [],
   "source": [
    "from morty.extras.foldgenerator import FoldGenerator\n",
    "from morty.pitchdistribution import PitchDistribution as pd\n",
    "from morty.chordia import Chordia\n",
    "from morty.evaluator import Evaluator\n",
    "import json\n",
    "import os\n"
   ]
  },
  {
   "cell_type": "code",
   "execution_count": null,
   "metadata": {
    "collapsed": true
   },
   "outputs": [],
   "source": [
    "# data\n",
    "data_folder = 'data'\n",
    "annotation_file = os.path.join(data_folder, 'annotations.json')\n",
    "annotations = json.load(open(annotation_file, 'r'))\n"
   ]
  },
  {
   "cell_type": "code",
   "execution_count": null,
   "metadata": {
    "collapsed": true
   },
   "outputs": [],
   "source": [
    "# divide the data into stratified 5-fold\n",
    "random_state = 1  # for reproducability\n",
    "folds = FoldGenerator.stratified_k_fold(data_folder, annotations, n_folds=5, \n",
    "                                        random_state=random_state)\n"
   ]
  },
  {
   "cell_type": "code",
   "execution_count": null,
   "metadata": {
    "collapsed": true
   },
   "outputs": [],
   "source": [
    "# instantiate the Bozkurt classifier object\n",
    "step_size = 7.5\n",
    "smooth_factor = 15\n",
    "distribution_type = \"pcd\"\n",
    "distance_method = \"bhat\"\n",
    "rank = 1\n",
    "k_param = 3\n",
    "chordia = Chordia(step_size=step_size, smooth_factor=smooth_factor, \n",
    "                  feature_type=distribution_type)\n"
   ]
  },
  {
   "cell_type": "code",
   "execution_count": null,
   "metadata": {
    "collapsed": false
   },
   "outputs": [],
   "source": [
    "# train, test and evaluate the method for each fold\n",
    "%pdb\n",
    "for fold in folds:\n",
    "    chordia.train(**fold['training'])\n",
    "    \n",
    "    # testing\n",
    "    testing_data = fold['testing']\n",
    "    for t in testing_data:\n",
    "        # tonic identification\n",
    "        tonic = chordia.estimate_tonic(t['pitch'], t['mode'])\n",
    "        \n",
    "        # mode recognition\n",
    "        mode = chordia.estimate_mode(t['pitch'], t['tonic'])\n",
    "\n",
    "        # joint estimation\n",
    "        joint = chordia.estimate_joint(t['pitch'])\n",
    "        \n",
    "        print (mode, t['mode'])\n",
    "        print (tonic, t['tonic'])\n",
    "        print ''\n",
    "#         print joint\n",
    "#         print (t['tonic'], t['mode'])\n",
    "        "
   ]
  },
  {
   "cell_type": "code",
   "execution_count": null,
   "metadata": {
    "collapsed": true
   },
   "outputs": [],
   "source": []
  },
  {
   "cell_type": "code",
   "execution_count": null,
   "metadata": {
    "collapsed": false
   },
   "outputs": [],
   "source": [
    "# Initializations\n",
    "ev = Evaluator()\n",
    "pitch_path = \"data\"\n",
    "mode_list = [\"Hicaz\", \"Huseyni\", \"Saba\"]\n",
    "train_dir = \"train_dir\"\n",
    "\n",
    "# Metadata of 5-fold Cross Validation Folds\n",
    "annotations = json.load(open(os.path.join(pitch_path, 'annotations.json'), 'r'))\n",
    "tonic_annotations = {annot['mbid']: annot['tonic'] for annot in annotations}\n",
    "folds = [json.load(open(os.path.join(\"folds\", (\"fold_%d.json\"%i)), 'r')) \n",
    "         for i in range(1,6)]\n",
    "test_folds = [fold['test'] for fold in folds]\n",
    "train_folds = [fold['train'] for fold in folds]\n",
    "\n",
    "# Parameter Set of the Experiment\n",
    "step_size = 7.5\n",
    "smooth_factor = 15\n",
    "distribution_type = \"pcd\"\n",
    "distance_method = \"bhat\"\n",
    "k_param = 3\n",
    "chordia = Chordia(step_size=step_size, smooth_factor=smooth_factor, chunk_size=0)\n",
    "\n",
    "# Identifier String of this Parameter Set\n",
    "exp_str = (\"sf_%2.1f__ss_%2.1f__%s__dist_%s__k_%d\" % \n",
    "           (smooth_factor, step_size, distribution_type, \n",
    "            distance_method, k_param)).replace('.', '')\n"
   ]
  },
  {
   "cell_type": "code",
   "execution_count": null,
   "metadata": {
    "collapsed": false,
    "scrolled": true
   },
   "outputs": [],
   "source": [
    "for fold_idx in range(5):\n",
    "    train_fold = train_folds[fold_idx]\n",
    "    test_fold = test_folds[fold_idx]\n",
    "    \n",
    "    # Training\n",
    "    for mode in mode_list:            \n",
    "        train_mbids = [track['mbid'] for track in train_fold if(track['makam'] == mode)]\n",
    "        train_tonics = [tonic_annotations[mbid] for mbid in train_mbids]\n",
    "        train_paths = [os.path.join(pitch_path, mode, (mbid+\".pitch\")) \n",
    "                       for mbid in train_mbids]\n",
    "        \n",
    "        chordia.train(mode, train_paths, train_tonics, feature=distribution_type, \n",
    "                      save_dir=train_dir)\n",
    "    \n",
    "    # Testing    \n",
    "    for test_pitch in test_fold:\n",
    "        test_path = os.path.join(pitch_path, test_pitch[\"makam\"], \n",
    "                                 (test_pitch[\"mbid\"]+\".pitch\"))\n",
    "        \n",
    "        # Mode Recognition\n",
    "        mode_est = chordia.mode_estimate(\n",
    "            test_path, test_pitch[\"tonic\"], mode_names=mode_list,\n",
    "            mode_dir=train_dir, distance_method=distance_method,\n",
    "            feature=distribution_type, k_param=k_param)\n",
    "        \n",
    "        # Tonic Identification\n",
    "        tonic_est = chordia.tonic_estimate(\n",
    "            test_path, mode, mode_dir=train_dir, \n",
    "            distance_method=distance_method, feature=distribution_type, \n",
    "            k_param=k_param)\n",
    "        \n",
    "        # Joint Estimation\n",
    "        joint_tonic_est, joint_mode_est = chordia.joint_estimate(\n",
    "            test_path, mode_list, mode_dir=train_dir, \n",
    "            distance_method=distance_method, feature=distribution_type, \n",
    "            k_param=k_param)\n",
    "        \n",
    "        # Evaluations\n",
    "        mode_eval = (mode_est == test_pitch[\"makam\"])\n",
    "        tonic_eval = ev.tonic_evaluate(test_pitch[\"mbid\"], tonic_est, \n",
    "                                       test_pitch[\"tonic\"])[\"tonic_eval\"]\n",
    "        joint_eval = ((mode_est == test_pitch[\"makam\"]), \n",
    "                      ev.tonic_evaluate(test_pitch[\"mbid\"], joint_tonic_est,\n",
    "                                        test_pitch[\"tonic\"])[\"tonic_eval\"])\n",
    "        \n",
    "        print(\"mbid:%s\" % test_pitch[\"mbid\"])\n",
    "        print(\"\\nMode Recognition:\\tEstimated:%s\\tActual:%s\\tEvaluation:%s\" % \n",
    "              (mode_est, test_pitch[\"makam\"], str(mode_eval)))\n",
    "        print(\"Tonic Identification:\\tEstimated:%4.2f\\tActual:%4.2f\\tEvaluation:%s\\n\" % \n",
    "              (tonic_est, test_pitch[\"tonic\"], str(tonic_eval)))\n",
    "        print((\"Joint Estimation:\\nMode:\\tEstimated:%s\\tActual:%s\\tEvaluation:%s\\n\"\n",
    "               \"Tonic:\\tEstimated:%4.2f\\tActual:%4.2f\\tEvaluation:%s\\n\") % \n",
    "              (joint_mode_est, test_pitch[\"makam\"], str(joint_eval[0]),\n",
    "               joint_tonic_est, test_pitch[\"tonic\"], str(joint_eval[1])))\n",
    "        print(\"----------------------------------------------------------------------\")\n"
   ]
  }
 ],
 "metadata": {
  "kernelspec": {
   "display_name": "Python 2",
   "language": "python",
   "name": "python2"
  },
  "language_info": {
   "codemirror_mode": {
    "name": "ipython",
    "version": 2
   },
   "file_extension": ".py",
   "mimetype": "text/x-python",
   "name": "python",
   "nbconvert_exporter": "python",
   "pygments_lexer": "ipython2",
   "version": "2.7.6"
  }
 },
 "nbformat": 4,
 "nbformat_minor": 0
}
